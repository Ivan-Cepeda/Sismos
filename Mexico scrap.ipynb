{
 "cells": [
  {
   "cell_type": "code",
   "execution_count": 16,
   "metadata": {},
   "outputs": [],
   "source": [
    "import requests\n",
    "from bs4 import BeautifulSoup\n",
    "import pandas as pd\n",
    "import csv"
   ]
  },
  {
   "cell_type": "code",
   "execution_count": 17,
   "metadata": {},
   "outputs": [],
   "source": [
    "url = 'http://www.ssn.unam.mx/sismicidad/ultimos/'\n",
    "response = requests.get(url)\n",
    "soup = BeautifulSoup(response.text, 'html.parser')\n"
   ]
  },
  {
   "cell_type": "code",
   "execution_count": 18,
   "metadata": {},
   "outputs": [
    {
     "name": "stdout",
     "output_type": "stream",
     "text": [
      "Earthquake data has been saved to earthquakes_mexico.csv.\n"
     ]
    }
   ],
   "source": [
    "rows = soup.find_all('tr', class_='1days')\n",
    "\n",
    "# Define the output CSV file path\n",
    "output_file = 'earthquakes_mexico.csv'\n",
    "\n",
    "with open('earthquakes_mexico.csv', 'w', newline='') as csvfile:\n",
    "    writer = csv.writer(csvfile)\n",
    "    writer.writerow(['Magnitud', 'Fecha', 'Hora', 'Place', 'Latitud', 'Longitud', 'Profundidad'])\n",
    "    \n",
    "    for row in rows:\n",
    "        magnitud = row.find('td', class_='latest-mag').text\n",
    "        fecha = row.find('span', id=lambda x: x and x.startswith('date_')).text\n",
    "        hora = row.find('span', id=lambda x: x and x.startswith('time_')).text\n",
    "        place = row.find('span', id=lambda x: x and x.startswith('epi_')).text\n",
    "        latitud = row.find('span', id=lambda x: x and x.startswith('lat_')).text\n",
    "        longitud = row.find('span', id=lambda x: x and x.startswith('lon_')).text\n",
    "        profundidad = row.find('td', class_='text-center', id=lambda x: x and x.startswith('prof_')).text\n",
    "        \n",
    "        writer.writerow([magnitud, fecha, hora, place, latitud, longitud, profundidad])\n",
    "    \n",
    "print(f\"Earthquake data has been saved to {output_file}.\")\n",
    "\n"
   ]
  },
  {
   "cell_type": "code",
   "execution_count": 19,
   "metadata": {},
   "outputs": [],
   "source": [
    "import os\n",
    "\n",
    "filename = 'earthquakes_mexico.csv'\n",
    "data = []\n",
    "\n",
    "if os.path.isfile(filename):\n",
    "    # Leer los datos existentes en el archivo CSV\n",
    "    with open(filename, 'r') as csvfile:\n",
    "        reader = csv.reader(csvfile)\n",
    "        next(reader)  # Saltar la primera fila (encabezados)\n",
    "        data = list(reader)\n",
    "else:\n",
    "    # El archivo no existe, iniciar con una lista vacía\n",
    "    data = []\n"
   ]
  },
  {
   "cell_type": "code",
   "execution_count": 20,
   "metadata": {},
   "outputs": [
    {
     "name": "stdout",
     "output_type": "stream",
     "text": [
      "---\n",
      "Magnitud: 3.6\n",
      "Fecha: 2023-07-08\n",
      "Hora: 00:31:03\n",
      "Epicentro: 56 km al SURESTE de  SAN MARCOS, GRO\n",
      "Latitud: 16.43\n",
      "Longitud: -99.03\n",
      "Profundidad: 8.6 km \n",
      "---\n"
     ]
    }
   ],
   "source": [
    "rows = soup.find_all('tr', class_='1days')\n",
    "\n",
    "# Define the output CSV file path\n",
    "output_file = 'earthquakes_mexico.csv'\n",
    "\n",
    "with open('earthquakes_mexico.csv', 'w', newline='') as csvfile:\n",
    "    writer = csv.writer(csvfile)\n",
    "    writer.writerow(['Magnitud', 'Fecha', 'Hora', 'Place', 'Latitud', 'Longitud', 'Profundidad'])\n",
    "    \n",
    "    for row in rows:\n",
    "        magnitud = row.find('td', class_='latest-mag').text\n",
    "        fecha = row.find('span', id=lambda x: x and x.startswith('date_')).text\n",
    "        hora = row.find('span', id=lambda x: x and x.startswith('time_')).text\n",
    "        place = row.find('span', id=lambda x: x and x.startswith('epi_')).text\n",
    "        latitud = row.find('span', id=lambda x: x and x.startswith('lat_')).text\n",
    "        longitud = row.find('span', id=lambda x: x and x.startswith('lon_')).text\n",
    "        profundidad = row.find('td', class_='text-center', id=lambda x: x and x.startswith('prof_')).text\n",
    "        \n",
    "        writer.writerow([magnitud, fecha, hora, place, latitud, longitud, profundidad])\n",
    "        \n",
    "    # Verificar si el identificador único ya existe en los datos existentes\n",
    "    # por ejemplo, si la fecha y hora coinciden\n",
    "    if [fecha, hora] not in data:\n",
    "        data.append([magnitud, fecha, hora, place, latitud, longitud, profundidad])\n",
    "\n",
    "        # Imprimir los datos\n",
    "        print('---')\n",
    "        print(\"Magnitud:\", magnitud)\n",
    "        print(\"Fecha:\", fecha)\n",
    "        print(\"Hora:\", hora)\n",
    "        print(\"Epicentro:\", place)\n",
    "        print(\"Latitud:\", latitud)\n",
    "        print(\"Longitud:\", longitud)\n",
    "        print(\"Profundidad:\", profundidad)\n",
    "        print('---')\n"
   ]
  },
  {
   "attachments": {},
   "cell_type": "markdown",
   "metadata": {},
   "source": [
    "Guardar los datos en el archivo CSV:"
   ]
  },
  {
   "cell_type": "code",
   "execution_count": 21,
   "metadata": {},
   "outputs": [],
   "source": [
    "with open(filename, 'w', newline='') as csvfile:\n",
    "    writer = csv.writer(csvfile)\n",
    "    writer.writerow(['Magnitud', 'Fecha', 'Hora', 'Lugar', 'Latitud', 'Longitud', 'Profundidad'])\n",
    "    writer.writerows(data)\n"
   ]
  },
  {
   "cell_type": "code",
   "execution_count": 22,
   "metadata": {},
   "outputs": [
    {
     "data": {
      "text/html": [
       "<div>\n",
       "<style scoped>\n",
       "    .dataframe tbody tr th:only-of-type {\n",
       "        vertical-align: middle;\n",
       "    }\n",
       "\n",
       "    .dataframe tbody tr th {\n",
       "        vertical-align: top;\n",
       "    }\n",
       "\n",
       "    .dataframe thead th {\n",
       "        text-align: right;\n",
       "    }\n",
       "</style>\n",
       "<table border=\"1\" class=\"dataframe\">\n",
       "  <thead>\n",
       "    <tr style=\"text-align: right;\">\n",
       "      <th></th>\n",
       "      <th>Magnitud</th>\n",
       "      <th>Fecha</th>\n",
       "      <th>Hora</th>\n",
       "      <th>Lugar</th>\n",
       "      <th>Latitud</th>\n",
       "      <th>Longitud</th>\n",
       "      <th>Profundidad</th>\n",
       "    </tr>\n",
       "  </thead>\n",
       "  <tbody>\n",
       "    <tr>\n",
       "      <th>0</th>\n",
       "      <td>3.5</td>\n",
       "      <td>2023-07-08</td>\n",
       "      <td>15:47:32</td>\n",
       "      <td>53 km al SUROESTE de  SALINA CRUZ, OAX</td>\n",
       "      <td>16.00</td>\n",
       "      <td>-95.65</td>\n",
       "      <td>31.5 km</td>\n",
       "    </tr>\n",
       "    <tr>\n",
       "      <th>1</th>\n",
       "      <td>3.5</td>\n",
       "      <td>2023-07-08</td>\n",
       "      <td>15:44:23</td>\n",
       "      <td>24 km al SUROESTE de  TECPAN, GRO</td>\n",
       "      <td>17.02</td>\n",
       "      <td>-100.70</td>\n",
       "      <td>3.9 km</td>\n",
       "    </tr>\n",
       "    <tr>\n",
       "      <th>2</th>\n",
       "      <td>3.2</td>\n",
       "      <td>2023-07-08</td>\n",
       "      <td>14:26:20</td>\n",
       "      <td>74 km al ESTE de  RODOLFO SANCHEZ T(MRO), BC</td>\n",
       "      <td>31.83</td>\n",
       "      <td>-115.80</td>\n",
       "      <td>13.8 km</td>\n",
       "    </tr>\n",
       "    <tr>\n",
       "      <th>3</th>\n",
       "      <td>3.5</td>\n",
       "      <td>2023-07-08</td>\n",
       "      <td>14:02:52</td>\n",
       "      <td>26 km al ESTE de  PINOTEPA NACIONAL, OAX</td>\n",
       "      <td>16.33</td>\n",
       "      <td>-97.81</td>\n",
       "      <td>15.1 km</td>\n",
       "    </tr>\n",
       "    <tr>\n",
       "      <th>4</th>\n",
       "      <td>3.5</td>\n",
       "      <td>2023-07-08</td>\n",
       "      <td>13:43:17</td>\n",
       "      <td>37 km al SUROESTE de  ARCELIA, GRO</td>\n",
       "      <td>18.00</td>\n",
       "      <td>-100.40</td>\n",
       "      <td>38.6 km</td>\n",
       "    </tr>\n",
       "  </tbody>\n",
       "</table>\n",
       "</div>"
      ],
      "text/plain": [
       "   Magnitud       Fecha      Hora  \\\n",
       "0       3.5  2023-07-08  15:47:32   \n",
       "1       3.5  2023-07-08  15:44:23   \n",
       "2       3.2  2023-07-08  14:26:20   \n",
       "3       3.5  2023-07-08  14:02:52   \n",
       "4       3.5  2023-07-08  13:43:17   \n",
       "\n",
       "                                          Lugar  Latitud  Longitud Profundidad  \n",
       "0        53 km al SUROESTE de  SALINA CRUZ, OAX    16.00    -95.65    31.5 km   \n",
       "1             24 km al SUROESTE de  TECPAN, GRO    17.02   -100.70     3.9 km   \n",
       "2  74 km al ESTE de  RODOLFO SANCHEZ T(MRO), BC    31.83   -115.80    13.8 km   \n",
       "3      26 km al ESTE de  PINOTEPA NACIONAL, OAX    16.33    -97.81    15.1 km   \n",
       "4            37 km al SUROESTE de  ARCELIA, GRO    18.00   -100.40    38.6 km   "
      ]
     },
     "execution_count": 22,
     "metadata": {},
     "output_type": "execute_result"
    }
   ],
   "source": [
    "df=pd.read_csv('earthquakes_mexico.csv')\n",
    "df.head()"
   ]
  },
  {
   "cell_type": "code",
   "execution_count": 23,
   "metadata": {},
   "outputs": [],
   "source": [
    "# determine the type of earthquake based on Magnitude value measurement\n",
    "def eq_class(input):\n",
    "    if input >= 0.00 and input <= 3.99:\n",
    "        return 'Minor'\n",
    "    if input >= 4.00 and input <= 5.99:\n",
    "        return 'Moderate'\n",
    "    if input >= 6.00 and input <= 7.49:\n",
    "        return 'Strong'\n",
    "    if input >= 7.50 and input <= 10.00:\n",
    "        return 'Catastrophe'\n",
    "    \n",
    "df['Earthquake_Classification'] = df['Magnitud'].apply(lambda x : eq_class(x))"
   ]
  },
  {
   "cell_type": "code",
   "execution_count": 24,
   "metadata": {},
   "outputs": [
    {
     "name": "stdout",
     "output_type": "stream",
     "text": [
      "<class 'pandas.core.frame.DataFrame'>\n",
      "RangeIndex: 38 entries, 0 to 37\n",
      "Data columns (total 8 columns):\n",
      " #   Column                     Non-Null Count  Dtype  \n",
      "---  ------                     --------------  -----  \n",
      " 0   Magnitud                   38 non-null     float64\n",
      " 1   Fecha                      38 non-null     object \n",
      " 2   Hora                       38 non-null     object \n",
      " 3   Lugar                      38 non-null     object \n",
      " 4   Latitud                    38 non-null     float64\n",
      " 5   Longitud                   38 non-null     float64\n",
      " 6   Profundidad                38 non-null     object \n",
      " 7   Earthquake_Classification  38 non-null     object \n",
      "dtypes: float64(3), object(5)\n",
      "memory usage: 2.5+ KB\n"
     ]
    }
   ],
   "source": [
    "df.info()"
   ]
  },
  {
   "cell_type": "code",
   "execution_count": 26,
   "metadata": {},
   "outputs": [
    {
     "ename": "KeyError",
     "evalue": "'Place'",
     "output_type": "error",
     "traceback": [
      "\u001b[1;31m---------------------------------------------------------------------------\u001b[0m",
      "\u001b[1;31mKeyError\u001b[0m                                  Traceback (most recent call last)",
      "File \u001b[1;32mc:\\Users\\MariVi\\AppData\\Local\\Programs\\Python\\Python311\\Lib\\site-packages\\pandas\\core\\indexes\\base.py:3802\u001b[0m, in \u001b[0;36mIndex.get_loc\u001b[1;34m(self, key, method, tolerance)\u001b[0m\n\u001b[0;32m   3801\u001b[0m \u001b[39mtry\u001b[39;00m:\n\u001b[1;32m-> 3802\u001b[0m     \u001b[39mreturn\u001b[39;00m \u001b[39mself\u001b[39;49m\u001b[39m.\u001b[39;49m_engine\u001b[39m.\u001b[39;49mget_loc(casted_key)\n\u001b[0;32m   3803\u001b[0m \u001b[39mexcept\u001b[39;00m \u001b[39mKeyError\u001b[39;00m \u001b[39mas\u001b[39;00m err:\n",
      "File \u001b[1;32mc:\\Users\\MariVi\\AppData\\Local\\Programs\\Python\\Python311\\Lib\\site-packages\\pandas\\_libs\\index.pyx:138\u001b[0m, in \u001b[0;36mpandas._libs.index.IndexEngine.get_loc\u001b[1;34m()\u001b[0m\n",
      "File \u001b[1;32mc:\\Users\\MariVi\\AppData\\Local\\Programs\\Python\\Python311\\Lib\\site-packages\\pandas\\_libs\\index.pyx:165\u001b[0m, in \u001b[0;36mpandas._libs.index.IndexEngine.get_loc\u001b[1;34m()\u001b[0m\n",
      "File \u001b[1;32mpandas\\_libs\\hashtable_class_helper.pxi:5745\u001b[0m, in \u001b[0;36mpandas._libs.hashtable.PyObjectHashTable.get_item\u001b[1;34m()\u001b[0m\n",
      "File \u001b[1;32mpandas\\_libs\\hashtable_class_helper.pxi:5753\u001b[0m, in \u001b[0;36mpandas._libs.hashtable.PyObjectHashTable.get_item\u001b[1;34m()\u001b[0m\n",
      "\u001b[1;31mKeyError\u001b[0m: 'Place'",
      "\nThe above exception was the direct cause of the following exception:\n",
      "\u001b[1;31mKeyError\u001b[0m                                  Traceback (most recent call last)",
      "Cell \u001b[1;32mIn[26], line 1\u001b[0m\n\u001b[1;32m----> 1\u001b[0m df[\u001b[39m'\u001b[39;49m\u001b[39mPlace\u001b[39;49m\u001b[39m'\u001b[39;49m]\u001b[39m.\u001b[39miloc[\u001b[39m-\u001b[39m\u001b[39m1\u001b[39m]\n",
      "File \u001b[1;32mc:\\Users\\MariVi\\AppData\\Local\\Programs\\Python\\Python311\\Lib\\site-packages\\pandas\\core\\frame.py:3807\u001b[0m, in \u001b[0;36mDataFrame.__getitem__\u001b[1;34m(self, key)\u001b[0m\n\u001b[0;32m   3805\u001b[0m \u001b[39mif\u001b[39;00m \u001b[39mself\u001b[39m\u001b[39m.\u001b[39mcolumns\u001b[39m.\u001b[39mnlevels \u001b[39m>\u001b[39m \u001b[39m1\u001b[39m:\n\u001b[0;32m   3806\u001b[0m     \u001b[39mreturn\u001b[39;00m \u001b[39mself\u001b[39m\u001b[39m.\u001b[39m_getitem_multilevel(key)\n\u001b[1;32m-> 3807\u001b[0m indexer \u001b[39m=\u001b[39m \u001b[39mself\u001b[39;49m\u001b[39m.\u001b[39;49mcolumns\u001b[39m.\u001b[39;49mget_loc(key)\n\u001b[0;32m   3808\u001b[0m \u001b[39mif\u001b[39;00m is_integer(indexer):\n\u001b[0;32m   3809\u001b[0m     indexer \u001b[39m=\u001b[39m [indexer]\n",
      "File \u001b[1;32mc:\\Users\\MariVi\\AppData\\Local\\Programs\\Python\\Python311\\Lib\\site-packages\\pandas\\core\\indexes\\base.py:3804\u001b[0m, in \u001b[0;36mIndex.get_loc\u001b[1;34m(self, key, method, tolerance)\u001b[0m\n\u001b[0;32m   3802\u001b[0m     \u001b[39mreturn\u001b[39;00m \u001b[39mself\u001b[39m\u001b[39m.\u001b[39m_engine\u001b[39m.\u001b[39mget_loc(casted_key)\n\u001b[0;32m   3803\u001b[0m \u001b[39mexcept\u001b[39;00m \u001b[39mKeyError\u001b[39;00m \u001b[39mas\u001b[39;00m err:\n\u001b[1;32m-> 3804\u001b[0m     \u001b[39mraise\u001b[39;00m \u001b[39mKeyError\u001b[39;00m(key) \u001b[39mfrom\u001b[39;00m \u001b[39merr\u001b[39;00m\n\u001b[0;32m   3805\u001b[0m \u001b[39mexcept\u001b[39;00m \u001b[39mTypeError\u001b[39;00m:\n\u001b[0;32m   3806\u001b[0m     \u001b[39m# If we have a listlike key, _check_indexing_error will raise\u001b[39;00m\n\u001b[0;32m   3807\u001b[0m     \u001b[39m#  InvalidIndexError. Otherwise we fall through and re-raise\u001b[39;00m\n\u001b[0;32m   3808\u001b[0m     \u001b[39m#  the TypeError.\u001b[39;00m\n\u001b[0;32m   3809\u001b[0m     \u001b[39mself\u001b[39m\u001b[39m.\u001b[39m_check_indexing_error(key)\n",
      "\u001b[1;31mKeyError\u001b[0m: 'Place'"
     ]
    }
   ],
   "source": [
    "df['Lugar'].iloc[-1]"
   ]
  }
 ],
 "metadata": {
  "kernelspec": {
   "display_name": "Python 3",
   "language": "python",
   "name": "python3"
  },
  "language_info": {
   "codemirror_mode": {
    "name": "ipython",
    "version": 3
   },
   "file_extension": ".py",
   "mimetype": "text/x-python",
   "name": "python",
   "nbconvert_exporter": "python",
   "pygments_lexer": "ipython3",
   "version": "3.11.2"
  },
  "orig_nbformat": 4
 },
 "nbformat": 4,
 "nbformat_minor": 2
}
